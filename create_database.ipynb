{
 "cells": [
  {
   "cell_type": "markdown",
   "id": "de2e6aa2",
   "metadata": {},
   "source": [
    "# The steps to create a database using the Python-Mysql Connector\n",
    "\n",
    "#### This is a simple tutorial about how to use the python-mysql-connector to perform SQL operations inside a Python envirioment. This is useful when you're building a python web based application and need a database to store information set by the user in a GUI."
   ]
  },
  {
   "cell_type": "code",
   "execution_count": 15,
   "id": "f4d9bdb1",
   "metadata": {},
   "outputs": [],
   "source": [
    "import mysql.connector as connector"
   ]
  },
  {
   "cell_type": "code",
   "execution_count": 21,
   "id": "f1d1a471",
   "metadata": {},
   "outputs": [],
   "source": [
    "# Creating a connection between the python and the mysql server. Then, using that connection to create a cursor.\n",
    "connection = connector.connect(user = \"root\", password = \"Capmund2@12\")\n",
    "cursor = connection.cursor()"
   ]
  },
  {
   "cell_type": "markdown",
   "id": "47ca0ad1",
   "metadata": {},
   "source": [
    "## Create a Database process"
   ]
  },
  {
   "cell_type": "code",
   "execution_count": 25,
   "id": "710ac7bb",
   "metadata": {},
   "outputs": [
    {
     "name": "stdout",
     "output_type": "stream",
     "text": [
      "('Exodus_store',)\n",
      "('information_schema',)\n",
      "('mysql',)\n",
      "('performance_schema',)\n",
      "('sys',)\n"
     ]
    }
   ],
   "source": [
    "# Our first step is to check if there's any database in the mysql local server.\n",
    "cursor.execute(\"SHOW DATABASES\")\n",
    "\n",
    "for x in cursor:\n",
    "  print(x)"
   ]
  },
  {
   "cell_type": "code",
   "execution_count": 24,
   "id": "b86bceae",
   "metadata": {},
   "outputs": [],
   "source": [
    "# Now, let's create a database and start using it!\n",
    "cursor.execute(\"CREATE DATABASE Exodus_store\")\n",
    "cursor.execute(\"USE Exodus_store\")"
   ]
  },
  {
   "cell_type": "code",
   "execution_count": 43,
   "id": "62f13c96",
   "metadata": {},
   "outputs": [],
   "source": [
    "# It's time, now, to create a few tables for our store.\n",
    "cursor.execute(\"CREATE TABLE IF NOT EXISTS Clientes (ID_Cliente int(10) NOT NULL PRIMARY KEY, Nome VARCHAR(50) NOT NULL, Tipo VARCHAR(25) NOT NULL, Endereço VARCHAR(50) NOT NULL, Telefone int(11) NOT NULL)\")\n",
    "cursor.execute(\"CREATE TABLE IF NOT EXISTS Fornecedor (ID_Fornecedor int NOT NULL PRIMARY KEY, Nome VARCHAR(50) NOT NULL, Categoria VARCHAR(50) NOT NULL, CNPJ VARCHAR(14) NOT NULL, Endereço VARCHAR(50) NOT NULL, Estado CHAR(2) NOT NULL)\")\n",
    "cursor.execute(\"CREATE TABLE IF NOT EXISTS Produtos (ID_Produto int NOT NULL PRIMARY KEY, ID_Fornecedor int NOT NULL, valor DECIMAL (10,2) NOT NULL, FOREIGN KEY (ID_Fornecedor) REFERENCES Fornecedor(ID_Fornecedor))\")\n",
    "cursor.execute(\"CREATE TABLE IF NOT EXISTS Vendas (ID_Venda int NOT NULL PRIMARY KEY, ID_Cliente int(10) NOT NULL, ID_Produto int NOT NULL, Data DATE, FOREIGN KEY (ID_Cliente) REFERENCES Clientes(ID_Cliente), FOREIGN KEY (ID_Produto) REFERENCES Produtos(ID_Produto))\")"
   ]
  },
  {
   "cell_type": "code",
   "execution_count": 46,
   "id": "fda03480",
   "metadata": {},
   "outputs": [
    {
     "name": "stdout",
     "output_type": "stream",
     "text": [
      "('Clientes',)\n",
      "('Fornecedor',)\n",
      "('Produtos',)\n",
      "('Vendas',)\n"
     ]
    }
   ],
   "source": [
    "# Le'ts check if the tables were created.\n",
    "cursor.execute(\"SHOW TABLES\")\n",
    "for x in cursor:\n",
    "  print(x)"
   ]
  },
  {
   "cell_type": "code",
   "execution_count": null,
   "id": "8537befc",
   "metadata": {},
   "outputs": [],
   "source": [
    "cursor.execute(\"\"\" \n",
    "INSERT INTO Clientes (ID_Cliente, Nome, Tipo, Endereço, Telefone)\n",
    "VALUES\n",
    "(1, 'John Smith', 'Individual', '123 Main Street', 1234567890),\n",
    "(2, 'Jane Doe', 'Corporate', '456 Oak Avenue', 9876543210),\n",
    "(3, 'Mike Johnson', 'Individual', '789 Elm Road', 5555555555),\n",
    "(4, 'Sarah Williams', 'Corporate', '321 Pine Lane', 1112223333),\n",
    "(5, 'Robert Brown', 'Individual', '567 Maple Drive', 4443332222);\n",
    "\"\"\")"
   ]
  },
  {
   "cell_type": "code",
   "execution_count": null,
   "id": "0e29162f",
   "metadata": {},
   "outputs": [],
   "source": [
    "cursor.execute(\"\"\"\n",
    "INSERT INTO Fornecedor (ID_Fornecedor, Nome, Categoria, CNPJ, Endereço, Estado)\n",
    "VALUES\n",
    "(1, 'ABC Company', 'Electronics', '12345678901234', '123 Main Street', 'CA'),\n",
    "(2, 'XYZ Corporation', 'Automotive', '98765432109876', '456 Oak Avenue', 'NY'),\n",
    "(3, 'EFG Suppliers', 'Industrial', '56789012345678', '789 Elm Road', 'TX'),\n",
    "(4, 'LMN Enterprises', 'Furniture', '43210987654321', '321 Pine Lane', 'FL'),\n",
    "(5, 'PQR Industries', 'Chemicals', '56781234567890', '567 Maple Drive', 'OH');\n",
    "\"\"\")"
   ]
  },
  {
   "cell_type": "code",
   "execution_count": null,
   "id": "9586ef0c",
   "metadata": {},
   "outputs": [],
   "source": [
    "cursor.execute(\"\"\"\n",
    "INSERT INTO Produto (ID_Produto, ID_Fornecedor, valor)\n",
    "VALUES\n",
    "(1, 1, 99.99),\n",
    "(2, 2, 49.99),\n",
    "(3, 3, 199.99),\n",
    "(4, 4, 79.99),\n",
    "(5, 5, 149.99);\n",
    "\"\"\")"
   ]
  },
  {
   "cell_type": "code",
   "execution_count": null,
   "id": "0a8a4670",
   "metadata": {},
   "outputs": [],
   "source": [
    "cursor.execute(\"\"\"\n",
    "INSERT INTO Vendas (ID_Venda, ID_Cliente, ID_Produto, Data)\n",
    "VALUES\n",
    "(1, 1, 1, '2023-05-01'),\n",
    "(2, 2, 3, '2023-05-02'),\n",
    "(3, 3, 2, '2023-05-03'),\n",
    "(4, 4, 4, '2023-05-04'),\n",
    "(5, 5, 5, '2023-05-05');\n",
    "\"\"\")"
   ]
  }
 ],
 "metadata": {
  "kernelspec": {
   "display_name": "Python 3 (ipykernel)",
   "language": "python",
   "name": "python3"
  },
  "language_info": {
   "codemirror_mode": {
    "name": "ipython",
    "version": 3
   },
   "file_extension": ".py",
   "mimetype": "text/x-python",
   "name": "python",
   "nbconvert_exporter": "python",
   "pygments_lexer": "ipython3",
   "version": "3.10.9"
  }
 },
 "nbformat": 4,
 "nbformat_minor": 5
}
