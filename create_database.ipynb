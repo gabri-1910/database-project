{
 "cells": [
  {
   "cell_type": "markdown",
   "id": "de2e6aa2",
   "metadata": {},
   "source": [
    "# The steps to create a database using the Python-Mysql Connector\n",
    "\n",
    "#### This is a simple tutorial about how to use the python-mysql-connector to perform SQL operations inside a Python envirioment. This is useful when you're building a python web based application and need a database to store information set by the user in a GUI."
   ]
  },
  {
   "cell_type": "code",
   "execution_count": 15,
   "id": "f4d9bdb1",
   "metadata": {},
   "outputs": [],
   "source": [
    "import mysql.connector as connector"
   ]
  },
  {
   "cell_type": "code",
   "execution_count": 21,
   "id": "f1d1a471",
   "metadata": {},
   "outputs": [],
   "source": [
    "# Creating a connection between the python and the mysql server. Then, using that connection to create a cursor.\n",
    "connection = connector.connect(user = \"root\", password = \"Capmund2@12\")\n",
    "cursor = connection.cursor()"
   ]
  },
  {
   "cell_type": "markdown",
   "id": "47ca0ad1",
   "metadata": {},
   "source": [
    "## Create a Database process"
   ]
  },
  {
   "cell_type": "code",
   "execution_count": 25,
   "id": "710ac7bb",
   "metadata": {},
   "outputs": [
    {
     "name": "stdout",
     "output_type": "stream",
     "text": [
      "('Exodus_store',)\n",
      "('information_schema',)\n",
      "('mysql',)\n",
      "('performance_schema',)\n",
      "('sys',)\n"
     ]
    }
   ],
   "source": [
    "# Our first step is to check if there's any database in the mysql local server.\n",
    "cursor.execute(\"SHOW DATABASES\")\n",
    "\n",
    "for x in cursor:\n",
    "  print(x)"
   ]
  },
  {
   "cell_type": "code",
   "execution_count": 24,
   "id": "b86bceae",
   "metadata": {},
   "outputs": [],
   "source": [
    "# Now, let's create a database and start using it!\n",
    "cursor.execute(\"CREATE DATABASE Exodus_store\")\n",
    "cursor.execute(\"USE Exodus_store\")"
   ]
  },
  {
   "cell_type": "code",
   "execution_count": 43,
   "id": "62f13c96",
   "metadata": {},
   "outputs": [],
   "source": [
    "# It's time, now, to create a few tables for our store.\n",
    "cursor.execute(\"CREATE TABLE IF NOT EXISTS Clientes (ID_Cliente int(10) NOT NULL PRIMARY KEY, Nome VARCHAR(50) NOT NULL, Tipo VARCHAR(25) NOT NULL, Endereço VARCHAR(50) NOT NULL, Telefone int(11) NOT NULL)\")\n",
    "cursor.execute(\"CREATE TABLE IF NOT EXISTS Fornecedor (ID_Fornecedor int NOT NULL PRIMARY KEY, Nome VARCHAR(50) NOT NULL, Categoria VARCHAR(50) NOT NULL, CNPJ VARCHAR(14) NOT NULL, Endereço VARCHAR(50) NOT NULL, Estado CHAR(2) NOT NULL)\")\n",
    "cursor.execute(\"CREATE TABLE IF NOT EXISTS Produtos (ID_Produto int NOT NULL PRIMARY KEY, ID_Fornecedor int NOT NULL, valor DECIMAL (10,2) NOT NULL, FOREIGN KEY (ID_Fornecedor) REFERENCES Fornecedor(ID_Fornecedor))\")\n",
    "cursor.execute(\"CREATE TABLE IF NOT EXISTS Vendas (ID_Venda int NOT NULL PRIMARY KEY, ID_Cliente int(10) NOT NULL, ID_Produto int NOT NULL, Data DATE, FOREIGN KEY (ID_Cliente) REFERENCES Clientes(ID_Cliente), FOREIGN KEY (ID_Produto) REFERENCES Produtos(ID_Produto))\")"
   ]
  },
  {
   "cell_type": "code",
   "execution_count": 46,
   "id": "fda03480",
   "metadata": {},
   "outputs": [
    {
     "name": "stdout",
     "output_type": "stream",
     "text": [
      "('Clientes',)\n",
      "('Fornecedor',)\n",
      "('Produtos',)\n",
      "('Vendas',)\n"
     ]
    }
   ],
   "source": [
    "# Le'ts check if the tables were created.\n",
    "cursor.execute(\"SHOW TABLES\")\n",
    "for x in cursor:\n",
    "  print(x)"
   ]
  },
  {
   "cell_type": "code",
   "execution_count": null,
   "id": "8537befc",
   "metadata": {},
   "outputs": [],
   "source": []
  }
 ],
 "metadata": {
  "kernelspec": {
   "display_name": "Python 3 (ipykernel)",
   "language": "python",
   "name": "python3"
  },
  "language_info": {
   "codemirror_mode": {
    "name": "ipython",
    "version": 3
   },
   "file_extension": ".py",
   "mimetype": "text/x-python",
   "name": "python",
   "nbconvert_exporter": "python",
   "pygments_lexer": "ipython3",
   "version": "3.10.7"
  }
 },
 "nbformat": 4,
 "nbformat_minor": 5
}
